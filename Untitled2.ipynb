{
  "nbformat": 4,
  "nbformat_minor": 0,
  "metadata": {
    "colab": {
      "provenance": []
    },
    "kernelspec": {
      "name": "python3",
      "display_name": "Python 3"
    },
    "language_info": {
      "name": "python"
    }
  },
  "cells": [
    {
      "cell_type": "code",
      "execution_count": null,
      "metadata": {
        "colab": {
          "base_uri": "https://localhost:8080/"
        },
        "id": "wtRp0QiRYCx5",
        "outputId": "1b4dcb22-9697-49c2-8c66-2eac7a11cfaf"
      },
      "outputs": [
        {
          "output_type": "stream",
          "name": "stdout",
          "text": [
            "Introduction to Machine Learning for Linguistic Applications\n"
          ]
        }
      ],
      "source": [
        "def introduction():\n",
        "    \"\"\"\n",
        "    This function should return the string:\n",
        "    'Introduction to Machine Learning for Linguistic Applications'\n",
        "    \"\"\"\n",
        "    # TODO: Complete the string\n",
        "    return \"Introduction to Machine Learning for Linguistic Applications\"\n",
        "\n",
        "if __name__ == \"__main__\":\n",
        "    print(introduction())\n"
      ]
    },
    {
      "cell_type": "code",
      "source": [
        "!python3 eval.py"
      ],
      "metadata": {
        "colab": {
          "base_uri": "https://localhost:8080/"
        },
        "id": "HEOI3bT_i5TH",
        "outputId": "40241dc8-bf19-4ae6-babb-a1ad662e9875"
      },
      "execution_count": 5,
      "outputs": [
        {
          "output_type": "stream",
          "name": "stdout",
          "text": [
            "Test passed!\n"
          ]
        }
      ]
    }
  ]
}